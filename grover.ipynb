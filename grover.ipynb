{
 "cells": [
  {
   "cell_type": "markdown",
   "id": "46d813f6",
   "metadata": {},
   "source": [
    "# Grover's Algorithm \n",
    "\n",
    "This Jupyter Notebook contains an implementation of Grover's algorithm.\n",
    "Grover's algorithm is used to obtain a quadratic speed-up in database search problems, but it can have many other applications as its amplitude amplification trick can help speeding up other quantum algorithms.\n",
    "\n",
    "For a classical computer, finding an element in a list of $N$ items requires to check on average $N/2$ elements, and in the worst case, all $N$ of them. Using Grover algorithm, however, the wanted item can be found only in roughly $\\sqrt{N}$ steps.\n",
    "\n",
    "Additionally, the algorithm does not use the list's internal structure, which makes it generic and easy to apply to a wide set of problems.\n",
    "$\\newcommand{\\ket}[1]{\\left|{#1}\\right\\rangle}$\n",
    "$\\newcommand{\\bra}[1]{\\left\\langle{#1}\\right|}$\n",
    "\n",
    "## Prerequisites\n",
    "* Suppose the database contains $N$ items, among which only $0 \\le M \\le N$ are solutions to our search problem.\n",
    "    * Items are identified by their index, an integer that goes from $0$ to $N-1$. As a result, only $n$ qubits are needed, where $2^n = N$.\n",
    "    * We will assume that $M$ is known. If that is not the case, an additional step of counting the number of solutions must be run before the Grover search.\n",
    "* Suppose we can build a classical function $f(x)$, capable of checking whether item $x$ is a solution or not. This is an abstract function, whose implementation stricty depends on the actual problem. We will assume in general terms that the function return $1$ if $x$ is a solution and $0$ otherwise.\n",
    "$$ f(x) = \\begin{cases}1, \\quad \\text{if x is a solution}\\\\0, \\quad \\text{otherwise}\\end{cases}$$\n",
    "\n",
    "## Procedure\n",
    "explain the procedure"
   ]
  },
  {
   "cell_type": "markdown",
   "id": "8eddd498",
   "metadata": {},
   "source": [
    "## Step-by-step\n",
    "Let's follow the algorithm step by step, using qiskit to create a quantum circuit that implements the algorithm."
   ]
  },
  {
   "cell_type": "code",
   "execution_count": 1,
   "id": "d9530ff7",
   "metadata": {},
   "outputs": [],
   "source": [
    "# import matplotlib, numpy\n",
    "import matplotlib.pyplot as plt\n",
    "import numpy as np\n",
    "\n",
    "# import Qiskit\n",
    "from qiskit import IBMQ, Aer, assemble, transpile\n",
    "from qiskit import QuantumCircuit, ClassicalRegister, QuantumRegister\n",
    "from qiskit.circuit import classical_function, Int1\n",
    "from qiskit.providers.ibmq import least_busy\n",
    "\n",
    "# import basic plot tools\n",
    "from qiskit.visualization import plot_histogram"
   ]
  },
  {
   "cell_type": "markdown",
   "id": "db4f80aa",
   "metadata": {},
   "source": [
    "Let's suppose to have $N=16$. This requires the use of $n=4$ qubits. Let's also assume that there are $M=2$ solutions to the problem. Later we will discuss how to approach the problem in case $M$ is unknown."
   ]
  },
  {
   "cell_type": "code",
   "execution_count": 20,
   "id": "edceb9b7",
   "metadata": {},
   "outputs": [
    {
     "data": {
      "image/png": "[encoded data removed]",
      "text/plain": [
       "<Figure size 127.657x385.28 with 1 Axes>"
      ]
     },
     "execution_count": 20,
     "metadata": {},
     "output_type": "execute_result"
    }
   ],
   "source": [
    "N = 16\n",
    "n = int(np.log2(N))\n",
    "\n",
    "qr = QuantumRegister(n,\"q\")\n",
    "anc = QuantumRegister(1,\"anc\")\n",
    "cr = ClassicalRegister(n,\"c\")\n",
    "\n",
    "grover_circuit = QuantumCircuit(qr,anc,cr)\n",
    "grover_circuit.draw(output=\"mpl\")"
   ]
  },
  {
   "cell_type": "markdown",
   "id": "b592e279",
   "metadata": {},
   "source": [
    "### Step 1: Initialization\n",
    "The first step of the algorithm is to initialize the $n$ qubits, assumed to be in the $\\ket{00..0}$ state, in the uniform superposition of all possible states of the system, which we will call $\\ket{s}$.\n",
    "$$ \\ket{s} = \\frac{1}{\\sqrt{N}} \\sum_{x=0}^{N-1} \\ket{x}$$\n",
    "This can be achieved by applying an Hadamard gate to each qubit:\n",
    "$$ \\ket{s} = H^{\\otimes n} \\ket{00..0}$$"
   ]
  },
  {
   "cell_type": "code",
   "execution_count": 3,
   "id": "f2715562",
   "metadata": {},
   "outputs": [],
   "source": [
    "def initialize_s(circuit, qubits):\n",
    "    \"\"\"Apply a H-gate to 'qubits' in circuit\"\"\"\n",
    "    for q in qubits:\n",
    "        circuit.h(q)\n",
    "    return circuit"
   ]
  },
  {
   "cell_type": "code",
   "execution_count": 21,
   "id": "50aab651",
   "metadata": {},
   "outputs": [
    {
     "data": {
      "image/png": "[encoded data removed]",
      "text/plain": [
       "<Figure size 278.157x385.28 with 1 Axes>"
      ]
     },
     "execution_count": 21,
     "metadata": {},
     "output_type": "execute_result"
    }
   ],
   "source": [
    "grover_circuit = initialize_s(grover_circuit, range(n))\n",
    "\n",
    "# setup the ancillary qubit\n",
    "grover_circuit.x(n) # |0> -> |1>\n",
    "grover_circuit.h(n) # |1> -> |->\n",
    "\n",
    "grover_circuit.barrier()\n",
    "grover_circuit.draw(output=\"mpl\")"
   ]
  },
  {
   "cell_type": "markdown",
   "id": "8d3b72eb",
   "metadata": {},
   "source": [
    "### Step 2: Building the Oracle\n",
    "The oracle is a black box that adds an overall phase to the quantum states that solve the problem. It is defined using the classical function $f(x)$ which is able to verify a solution. In particular, the overall effect is:\n",
    "$$ U_w \\ket{x} = (-1)^{f(x)}|x> $$\n",
    "To build a gate like this, we "
   ]
  },
  {
   "cell_type": "code",
   "execution_count": null,
   "id": "d164d659",
   "metadata": {},
   "outputs": [],
   "source": []
  },
  {
   "cell_type": "code",
   "execution_count": 22,
   "id": "83f08ed9",
   "metadata": {},
   "outputs": [],
   "source": [
    "# define a classical function f(x): this returns 1 for the solutions of the problem\n",
    "# in this case, the solutions are 1010 and 1100\n",
    "@classical_function\n",
    "def f(x1: Int1, x2: Int1, x3: Int1, x4: Int1) -> Int1:\n",
    "    return (x1 and not x2 and x3 and not x4) or (x1 and x2 and not x3 and not x4)\n",
    "\n",
    "def oracle(nqubits):\n",
    "    \n",
    "    Uf = f.synth()  # turn it into a circuit\n",
    "    oracle = QuantumCircuit(nqubits+1)\n",
    "    oracle.compose(Uf, inplace=True)\n",
    "\n",
    "    # why is this needed ?\n",
    "    #oracle.h(nqubits)\n",
    "    #oracle.x(nqubits)\n",
    "\n",
    "    # We will return the diffuser as a gate\n",
    "    U_w = oracle.to_gate()\n",
    "    U_w.name = \"U$_w$\"\n",
    "    return U_w"
   ]
  },
  {
   "cell_type": "code",
   "execution_count": 23,
   "id": "63c250ad",
   "metadata": {},
   "outputs": [
    {
     "data": {
      "image/png": "[encoded data removed]",
      "text/plain": [
       "<Figure size 338.357x385.28 with 1 Axes>"
      ]
     },
     "execution_count": 23,
     "metadata": {},
     "output_type": "execute_result"
    }
   ],
   "source": [
    "grover_circuit.append(oracle(n),range(n+1))\n",
    "grover_circuit.draw(output=\"mpl\")"
   ]
  },
  {
   "cell_type": "markdown",
   "id": "752ff23b",
   "metadata": {},
   "source": [
    "### Step 3: Building the Grover diffuser\n",
    "short explanation of what it does...\n",
    "explain the general implementation used"
   ]
  },
  {
   "cell_type": "code",
   "execution_count": 16,
   "id": "beed4c38",
   "metadata": {},
   "outputs": [],
   "source": [
    "def diffuser(nqubits):\n",
    "    qc = QuantumCircuit(nqubits)\n",
    "    # Apply transformation |s> -> |00..0> (H-gates)\n",
    "    for qubit in range(nqubits):\n",
    "        qc.h(qubit)\n",
    "    # Apply transformation |00..0> -> |11..1> (X-gates)\n",
    "    for qubit in range(nqubits):\n",
    "        qc.x(qubit)\n",
    "    # Do multi-controlled-Z gate\n",
    "    qc.h(nqubits-1)\n",
    "    qc.mct(list(range(nqubits-1)), nqubits-1)  # multi-controlled-toffoli\n",
    "    qc.h(nqubits-1)\n",
    "    # Apply transformation |11..1> -> |00..0>\n",
    "    for qubit in range(nqubits):\n",
    "        qc.x(qubit)\n",
    "    # Apply transformation |00..0> -> |s>\n",
    "    for qubit in range(nqubits):\n",
    "        qc.h(qubit)\n",
    "    # We will return the diffuser as a gate\n",
    "    U_s = qc.to_gate()\n",
    "    U_s.name = \"U$_s$\"\n",
    "    return U_s"
   ]
  },
  {
   "cell_type": "code",
   "execution_count": 24,
   "id": "4e8d3ade",
   "metadata": {},
   "outputs": [
    {
     "data": {
      "image/png": "[encoded data removed]",
      "text/plain": [
       "<Figure size 458.757x385.28 with 1 Axes>"
      ]
     },
     "execution_count": 24,
     "metadata": {},
     "output_type": "execute_result"
    }
   ],
   "source": [
    "# Diffusion operator (U_s)\n",
    "grover_circuit.append(diffuser(n),range(n))\n",
    "grover_circuit.barrier()\n",
    "grover_circuit.draw(output=\"mpl\")"
   ]
  },
  {
   "cell_type": "markdown",
   "id": "a7930862",
   "metadata": {},
   "source": [
    "### Step 4: Apply and repeat"
   ]
  },
  {
   "cell_type": "code",
   "execution_count": 25,
   "id": "93aebab8",
   "metadata": {
    "scrolled": true
   },
   "outputs": [
    {
     "data": {
      "image/png": "[encoded data removed]",
      "text/plain": [
       "<Figure size 579.157x385.28 with 1 Axes>"
      ]
     },
     "execution_count": 25,
     "metadata": {},
     "output_type": "execute_result"
    }
   ],
   "source": [
    "grover_circuit.append(oracle(n),range(n+1))\n",
    "grover_circuit.append(diffuser(n),range(n))\n",
    "grover_circuit.draw(output=\"mpl\")"
   ]
  },
  {
   "cell_type": "markdown",
   "id": "8952b18d",
   "metadata": {
    "scrolled": true
   },
   "source": [
    "## Results"
   ]
  },
  {
   "cell_type": "code",
   "execution_count": 26,
   "id": "f5ae6903",
   "metadata": {},
   "outputs": [
    {
     "data": {
      "image/png": "[encoded data removed]",
      "text/plain": [
       "<Figure size 504x360 with 1 Axes>"
      ]
     },
     "execution_count": 26,
     "metadata": {},
     "output_type": "execute_result"
    }
   ],
   "source": [
    "grover_circuit.measure(qr,cr)\n",
    "aer_sim = Aer.get_backend('aer_simulator')\n",
    "transpiled_grover_circuit = transpile(grover_circuit, aer_sim)\n",
    "qobj = assemble(transpiled_grover_circuit)\n",
    "results = aer_sim.run(qobj).result()\n",
    "counts = results.get_counts()\n",
    "plot_histogram(counts)"
   ]
  },
  {
   "cell_type": "code",
   "execution_count": null,
   "id": "99403c8a",
   "metadata": {},
   "outputs": [],
   "source": []
  }
 ],
 "metadata": {
  "kernelspec": {
   "display_name": "Python 3 (ipykernel)",
   "language": "python",
   "name": "python3"
  },
  "language_info": {
   "codemirror_mode": {
    "name": "ipython",
    "version": 3
   },
   "file_extension": ".py",
   "mimetype": "text/x-python",
   "name": "python",
   "nbconvert_exporter": "python",
   "pygments_lexer": "ipython3",
   "version": "3.9.7"
  }
 },
 "nbformat": 4,
 "nbformat_minor": 5
}
